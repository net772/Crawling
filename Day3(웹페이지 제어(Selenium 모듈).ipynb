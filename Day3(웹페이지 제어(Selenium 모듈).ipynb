{
 "cells": [
  {
   "cell_type": "code",
   "execution_count": 1,
   "metadata": {},
   "outputs": [],
   "source": [
    "import requests as req\n",
    "from bs4 import BeautifulSoup as bs\n",
    "import pandas as pd"
   ]
  },
  {
   "cell_type": "markdown",
   "metadata": {},
   "source": [
    "# Selenium 모듈 \n",
    "--- 웹 페이지를 제어하기 위한 모듈"
   ]
  },
  {
   "cell_type": "code",
   "execution_count": 2,
   "metadata": {},
   "outputs": [
    {
     "name": "stdout",
     "output_type": "stream",
     "text": [
      "Collecting selenium\n",
      "  Downloading selenium-3.141.0-py2.py3-none-any.whl (904 kB)\n",
      "Requirement already satisfied: urllib3 in c:\\users\\smhrd\\anaconda3\\lib\\site-packages (from selenium) (1.25.11)\n",
      "Installing collected packages: selenium\n",
      "Successfully installed selenium-3.141.0\n"
     ]
    }
   ],
   "source": [
    "!pip install selenium"
   ]
  },
  {
   "cell_type": "code",
   "execution_count": 2,
   "metadata": {},
   "outputs": [],
   "source": [
    "from selenium import webdriver as wb #웹을 통제하기 위한 모듈\n",
    "from selenium.webdriver.common.keys import Keys #웹을 통해 값을 입력하기 위한 모듈\n",
    "import time"
   ]
  },
  {
   "cell_type": "markdown",
   "metadata": {},
   "source": [
    "## 버튼 클릭 "
   ]
  },
  {
   "cell_type": "code",
   "execution_count": 12,
   "metadata": {},
   "outputs": [],
   "source": [
    "driver = wb.Chrome()\n",
    "url = 'https://www.naver.com/'\n",
    "driver.get(url)\n",
    "\n",
    "search = driver.find_element_by_id('query')\n",
    "search.send_keys(\"시고르자브종\")\n",
    "\n",
    "button = driver.find_element_by_id('search_btn')\n",
    "button.click()"
   ]
  },
  {
   "cell_type": "markdown",
   "metadata": {},
   "source": [
    "## 엔터치는 방법"
   ]
  },
  {
   "cell_type": "code",
   "execution_count": 16,
   "metadata": {},
   "outputs": [],
   "source": [
    "driver = wb.Chrome()\n",
    "url = 'https://www.naver.com/'\n",
    "driver.get(url)\n",
    "\n",
    "search = driver.find_element_by_id('query')\n",
    "search.send_keys(\"시고르자브종\")\n",
    "\n",
    "search.send_keys(Keys.ENTER)"
   ]
  },
  {
   "cell_type": "markdown",
   "metadata": {},
   "source": [
    "## 실)구글페이지에서 광주날씨 검색 "
   ]
  },
  {
   "cell_type": "code",
   "execution_count": 28,
   "metadata": {},
   "outputs": [],
   "source": [
    "driver = wb.Chrome()\n",
    "url = 'https://www.google.co.kr/'\n",
    "driver.get(url)\n",
    "\n",
    "search = driver.find_element_by_class_name('gLFyf')\n",
    "\n",
    "search.send_keys(\"광주날씨\")\n",
    "\n",
    "search.send_keys(Keys.ENTER)"
   ]
  },
  {
   "cell_type": "code",
   "execution_count": 48,
   "metadata": {},
   "outputs": [
    {
     "data": {
      "text/plain": [
       "'10'"
      ]
     },
     "execution_count": 48,
     "metadata": {},
     "output_type": "execute_result"
    }
   ],
   "source": [
    "soup = bs(driver.page_source, 'lxml')\n",
    "soup.select('div.vk_bk>span#wob_tm')[0].text"
   ]
  },
  {
   "cell_type": "markdown",
   "metadata": {},
   "source": [
    "# 실)한솥도시락  "
   ]
  },
  {
   "cell_type": "markdown",
   "metadata": {},
   "source": [
    "# 예외 처리 try except "
   ]
  },
  {
   "cell_type": "code",
   "execution_count": 3,
   "metadata": {},
   "outputs": [
    {
     "name": "stdout",
     "output_type": "stream",
     "text": [
      "끝\n"
     ]
    }
   ],
   "source": [
    "driver = wb.Chrome()\n",
    "url = 'https://www.hsd.co.kr/menu/menu_list'\n",
    "driver.get(url)\n",
    "\n",
    "button = driver.find_element_by_class_name('c_05')\n",
    "try:\n",
    "    for i in range(20):   \n",
    "        button.click()\n",
    "        time.sleep(1)\n",
    "except:\n",
    "    print('끝')\n",
    "\n",
    "soup = bs(driver.page_source, 'lxml')\n",
    "\n",
    "menu_list = []\n",
    "price_list = []\n",
    "\n",
    "menu = soup.select('div.item-text> h4.fz_03')\n",
    "price = soup.select('div.item-price>strong')\n",
    "\n",
    "for i in range(len(menu)):\n",
    "    menu_list.append(menu[i].text)\n",
    "    price_list.append(price[i].text)\n",
    "       "
   ]
  },
  {
   "cell_type": "code",
   "execution_count": 65,
   "metadata": {},
   "outputs": [],
   "source": [
    "dic = {'메뉴' : menu_list, '가격' : price_list }\n",
    "df = pd.DataFrame(dic)"
   ]
  },
  {
   "cell_type": "code",
   "execution_count": 66,
   "metadata": {},
   "outputs": [
    {
     "data": {
      "text/html": [
       "<div>\n",
       "<style scoped>\n",
       "    .dataframe tbody tr th:only-of-type {\n",
       "        vertical-align: middle;\n",
       "    }\n",
       "\n",
       "    .dataframe tbody tr th {\n",
       "        vertical-align: top;\n",
       "    }\n",
       "\n",
       "    .dataframe thead th {\n",
       "        text-align: right;\n",
       "    }\n",
       "</style>\n",
       "<table border=\"1\" class=\"dataframe\">\n",
       "  <thead>\n",
       "    <tr style=\"text-align: right;\">\n",
       "      <th></th>\n",
       "      <th>메뉴</th>\n",
       "      <th>가격</th>\n",
       "    </tr>\n",
       "  </thead>\n",
       "  <tbody>\n",
       "    <tr>\n",
       "      <th>0</th>\n",
       "      <td>매화(치킨, 연어구이)</td>\n",
       "      <td>10,000</td>\n",
       "    </tr>\n",
       "    <tr>\n",
       "      <th>1</th>\n",
       "      <td>매화 (순살 고등어 간장구이)</td>\n",
       "      <td>10,000</td>\n",
       "    </tr>\n",
       "    <tr>\n",
       "      <th>2</th>\n",
       "      <td>진달래</td>\n",
       "      <td>7,000</td>\n",
       "    </tr>\n",
       "    <tr>\n",
       "      <th>3</th>\n",
       "      <td>개나리(순살 고등어 간장구이)</td>\n",
       "      <td>8,000</td>\n",
       "    </tr>\n",
       "    <tr>\n",
       "      <th>4</th>\n",
       "      <td>생선까스도련님고기고기</td>\n",
       "      <td>5,500</td>\n",
       "    </tr>\n",
       "    <tr>\n",
       "      <th>...</th>\n",
       "      <td>...</td>\n",
       "      <td>...</td>\n",
       "    </tr>\n",
       "    <tr>\n",
       "      <th>94</th>\n",
       "      <td>한솥 두부강된장소스</td>\n",
       "      <td>1,800</td>\n",
       "    </tr>\n",
       "    <tr>\n",
       "      <th>95</th>\n",
       "      <td>한솥 감초볶음고추장소스</td>\n",
       "      <td>500</td>\n",
       "    </tr>\n",
       "    <tr>\n",
       "      <th>96</th>\n",
       "      <td>볶음김치</td>\n",
       "      <td>400</td>\n",
       "    </tr>\n",
       "    <tr>\n",
       "      <th>97</th>\n",
       "      <td>김치</td>\n",
       "      <td>300</td>\n",
       "    </tr>\n",
       "    <tr>\n",
       "      <th>98</th>\n",
       "      <td>무말랭이</td>\n",
       "      <td>300</td>\n",
       "    </tr>\n",
       "  </tbody>\n",
       "</table>\n",
       "<p>99 rows × 2 columns</p>\n",
       "</div>"
      ],
      "text/plain": [
       "                  메뉴      가격\n",
       "0       매화(치킨, 연어구이)  10,000\n",
       "1   매화 (순살 고등어 간장구이)  10,000\n",
       "2                진달래   7,000\n",
       "3   개나리(순살 고등어 간장구이)   8,000\n",
       "4        생선까스도련님고기고기   5,500\n",
       "..               ...     ...\n",
       "94        한솥 두부강된장소스   1,800\n",
       "95      한솥 감초볶음고추장소스     500\n",
       "96              볶음김치     400\n",
       "97                김치     300\n",
       "98              무말랭이     300\n",
       "\n",
       "[99 rows x 2 columns]"
      ]
     },
     "execution_count": 66,
     "metadata": {},
     "output_type": "execute_result"
    }
   ],
   "source": [
    "df"
   ]
  },
  {
   "cell_type": "markdown",
   "metadata": {},
   "source": [
    "# 유튜브 크롤링"
   ]
  },
  {
   "cell_type": "code",
   "execution_count": 75,
   "metadata": {},
   "outputs": [],
   "source": [
    "driver = wb.Chrome()\n",
    "url = 'https://www.youtube.com/c/%EC%A7%A4%ED%88%B01/videos'\n",
    "driver.get(url)\n",
    "\n",
    "body = driver.find_element_by_tag_name('body') #바디 선택\n",
    "\n",
    "for i in range(40):\n",
    "    body.send_keys(Keys.PAGE_DOWN) #스크롤 다운 //마지막 페이지 까지\n",
    "    time.sleep(1)\n",
    "    \n",
    "soup = bs(driver.page_source, 'lxml')\n"
   ]
  },
  {
   "cell_type": "code",
   "execution_count": 79,
   "metadata": {},
   "outputs": [],
   "source": [
    "title_list = [];\n",
    "\n",
    "title = soup.select('a#video-title')\n",
    "\n",
    "for i in range(len(title)):\n",
    "    title_list.append(title[i].text)\n",
    "\n",
    "   "
   ]
  },
  {
   "cell_type": "code",
   "execution_count": 80,
   "metadata": {},
   "outputs": [
    {
     "data": {
      "text/plain": [
       "['[병영일기] 간부',\n",
       " '[상여자] 동료',\n",
       " '[짐승친구들] 유기견',\n",
       " '[짤툰 프리미엄] 똥휴지',\n",
       " '[짤툰 프리미엄] 5인 이상 집합금지',\n",
       " '[짤툰 프리미엄] 리뷰빌런',\n",
       " '[짤툰 프리미엄] 독거노인',\n",
       " '[짤툰 프리미엄] 결혼하지마',\n",
       " '[짤툰 오리지널] 일찐역전세계',\n",
       " '[짤툰 프리미엄] 학점 구걸',\n",
       " '[짤툰 오리지널] 누나',\n",
       " '[병영일기] 폐급',\n",
       " '[짧툰] 성현희 VS 모기',\n",
       " '[상여자] 영웅',\n",
       " '[짤툰 프리미엄] 상견례',\n",
       " '[짤툰 프리미엄] 인질',\n",
       " '[짤툰 오리지널] 사이버경매 2020',\n",
       " '[짤툰 프리미엄] 김장',\n",
       " '[병영일기] 부식',\n",
       " '[짤툰 오리지널] 첫사랑',\n",
       " '★크리스마스 특선★ 짐승친구들 몰아보기',\n",
       " '[짤툰 오리지널] 약속',\n",
       " '[짤툰 매드무비] 크리스마스에 밖에서 노는 사람들한테 불러주는 노래',\n",
       " '[짤툰 프리미엄] 점 봐드립니다',\n",
       " '[짐승친구들] 산타 할아버지',\n",
       " '[짤툰 오리지널] 어른탐정 강도일',\n",
       " '[짤툰 프리미엄] 사랑니',\n",
       " '[병영일기] 내리갈굼',\n",
       " '[짤툰 프리미엄] 일렉트로 보이',\n",
       " '[짤툰 오리지널] 여고생',\n",
       " '[짐승친구들] 욕쟁이 앵무새',\n",
       " '[짤툰 프리미엄] 붕어빵',\n",
       " '[짤툰 오리지널] 공돌이',\n",
       " '[짤툰 프리미엄] 안전불감증',\n",
       " '[카카오페이지X짤툰] 갓 오브 블랙필드',\n",
       " '[짤툰 오리지널] 딸천재',\n",
       " '[짤툰 오리지널] 찐막',\n",
       " '[짐승친구들] 현피',\n",
       " '[짤툰 프리미엄] 천하제일 꿀잼대회',\n",
       " '[짤툰 오리지널] VR',\n",
       " '[짤툰 오리지널] 겜부심',\n",
       " '[짤툰 오리지널] 커플 여행',\n",
       " '[ㄹㅇ짤툰] 마감',\n",
       " '[짤툰컴퍼니] 입사',\n",
       " '[짤툰 프리미엄] 헨젤과 그레텔 (下편)',\n",
       " '[짤툰 프리미엄] 헨젤과 그레텔 (上편)',\n",
       " '[짐승친구들] 데이트',\n",
       " '[짤툰 프리미엄] 게임 중독',\n",
       " '[사탄] 알바지옥',\n",
       " '[짤툰 프리미엄] 국뽕',\n",
       " '[짤툰 프리미엄] 주식의 신',\n",
       " '[짐승친구들] 카톡',\n",
       " '[짤툰 오리지널] 잡상인',\n",
       " '[짤툰 프리미엄] 테스형',\n",
       " '[짤국지] 개노답 삼형제',\n",
       " '[짤툰컴퍼니] 면접',\n",
       " '[짤툰 오리지널] 위기탈출 남보완',\n",
       " '[짤툰 프리미엄] 츤데레 고딩',\n",
       " '[짤툰 오리지널] 냉면 (feat. 존박)',\n",
       " '[짤국지] 애기귀족 조조',\n",
       " '[짐승친구들] 외계인',\n",
       " '[사탄] 할로윈',\n",
       " '[짤툰 오리지널] 사이버렉카',\n",
       " '[짤툰 오리지널] 여자한테 호감 얻는 법',\n",
       " '[사탄] 사이버 조별과제',\n",
       " '[짤툰 오리지널] 미용실',\n",
       " '[짤툰 프리미엄] 헬스보이',\n",
       " '[짐승친구들] 샷건',\n",
       " '[짤국지] 도원결의',\n",
       " '[사탄] 룸메이트',\n",
       " '[짤툰 오리지널] 금연',\n",
       " '[짤툰 매드무비] 짤툰 다메다메',\n",
       " '[짤툰 오리지널] 용팔이',\n",
       " '[짤툰 프리미엄] 잭과 콩나무',\n",
       " '[짧툰] 어몽어스 못하는 사람 특징',\n",
       " '[짐승친구들] 썸',\n",
       " '[짤툰 오리지널] 일진',\n",
       " '[짤국지] 방구석 유비',\n",
       " '[짤툰 프리미엄] 선과함께',\n",
       " '[사탄] 헬조선',\n",
       " '[짤툰 오리지널] 마녀사냥',\n",
       " '[짤툰 오리지널] 사촌동생',\n",
       " '[짐승친구들] 사이버 추석',\n",
       " '[상여자] 상여자',\n",
       " '[짤툰 오리지널] 빨간마스크',\n",
       " '[짤국지] 비상대책회의',\n",
       " '[짤툰 오리지널] 운동장',\n",
       " '[짤툰 오리지널] 보이스피싱',\n",
       " '[짤툰 오리지널] 재택근무',\n",
       " '[짤툰 오리지널] 나루토 VS 사스케',\n",
       " '[짤국지] 현질',\n",
       " '[짐승친구들] 중성화 수술',\n",
       " '[짤툰 오리지널] 전여친',\n",
       " '[짤툰 매드무비] 랩',\n",
       " '[짤툰 오리지널] 개 VS 고양이',\n",
       " '[짐승친구들] 복학생',\n",
       " '[짤툰 오리지널] 쇼미더어머니',\n",
       " '[사탄] 사탄',\n",
       " '[짤국지] 꼰머',\n",
       " '[짤툰 오리지널] 스포맨',\n",
       " '[짤툰 오리지널] 악당의 사정(그 사정 아님)',\n",
       " '[짤국지] 성교육',\n",
       " '[짤툰 오리지널] 나만 고양이 없어',\n",
       " '[짤툰 오리지널] 뒷광고',\n",
       " '[짤툰 오리지널] 독서실 빌런',\n",
       " '[짤툰 오리지널] 힘숨찐',\n",
       " '[짤툰 오리지널] 중2병',\n",
       " '[짤국지] 가짜예비군',\n",
       " '[짤툰 오리지널] 체육복',\n",
       " '[짤툰 오리지널] 훈수충',\n",
       " '[짤국지] 정치질',\n",
       " '[짤툰 오리지널] 아버지의 유산2',\n",
       " '[짤툰 오리지널] 불매운동',\n",
       " '[짤툰 오리지널] 쩝쩝충',\n",
       " '[짤툰 오리지널] 유사과학',\n",
       " '[짤툰 오리지널] 투머치토커',\n",
       " '[짤툰 오리지널] 주작충',\n",
       " '[짤툰 오리지널] 중고 거래',\n",
       " '[짤국지] 엠티',\n",
       " '[짤툰 오리지널] 햄최몇 대회',\n",
       " '[짤툰 오리지널] 막창드라마',\n",
       " '[짤툰 오리지널] 힙스터',\n",
       " '[짤툰 오리지널] 일병의 첫경험',\n",
       " '[짤툰 오리지널] 잠실의 주인은 누구인가?',\n",
       " '[짤툰 오리지널] K-드라마',\n",
       " '[짤툰 오리지널] 문과 VS 이과',\n",
       " '[짤툰 오리지널] 웃음을 못참는 남자',\n",
       " '[짤툰 매드무비] 연애 써큘레이숀 (cover by 짤태식)',\n",
       " '[짤툰 오리지널] 똥컴 전쟁',\n",
       " '[짤툰 오리지널] 남매',\n",
       " '[짤툰 오리지널] 촉법소년',\n",
       " '[짤국지] 방구석 여포',\n",
       " '[짤툰 오리지널] 강아지 키우는 법',\n",
       " '[짤툰 오리지널] 다이어트',\n",
       " '[짤툰 오리지널] 운전 교육',\n",
       " '[짤툰 오리지널] 모기 사관학교',\n",
       " '[짤툰 오리지널] 금사빠',\n",
       " '[짤툰 오리지널] 사이버 강의',\n",
       " '[짤툰 오리지널] 층간소음',\n",
       " '[짤툰 오리지널] 화이트 데이',\n",
       " '[짤국지] 야자 타임',\n",
       " '[짤툰 오리지널] 서열 정리',\n",
       " '[짤툰 오리지널] 폰은정',\n",
       " '[짤툰 오리지널] 카톡 답장2',\n",
       " '[짤툰 오리지널] 발렌타인 데이',\n",
       " '[짤툰 오리지널] 대학교 OT에서 인싸되는 법',\n",
       " '[짤툰 리뷰] 돈으로 가득 찬 가방을 발견한 남자',\n",
       " '[짤툰 오리지널] 헬창의 길',\n",
       " '[짤툰 오리지널] 탈룰라',\n",
       " '[짤툰 오리지널] 전화 데이트',\n",
       " '[짤툰 오리지널] 서른살 놀리는 법',\n",
       " '[짤툰 오리지널] 일병의 크리스마스',\n",
       " '[짤국지] 허세충',\n",
       " '[짤툰 오리지널] 아버지의 유산',\n",
       " '[짤툰 오리지널] 별찌찌 할아버지의 전설 (下편)',\n",
       " '[짧툰] 겨울왕국2 본 사람들 특징',\n",
       " '[짤툰 오리지널] 별찌찌 할아버지의 전설 (上편)',\n",
       " '[짤툰 오리지널] 고인물 VS 과금러',\n",
       " '[짤툰 오리지널] 수능',\n",
       " '[짤툰 오리지널] 빼빼로 데이',\n",
       " '[짤툰 오리지널] 실버 버튼 언박싱',\n",
       " '[짤툰 오리지널] 2070년 메이플스토리',\n",
       " '[짤툰 오리지널] 카톡 답장',\n",
       " '[짤툰 오리지널] 헬창 가족',\n",
       " '[짤툰 오리지널] 아빠가 엄마한테 야동 걸린 썰',\n",
       " '[짤툰 오리지널] 국밥충']"
      ]
     },
     "execution_count": 80,
     "metadata": {},
     "output_type": "execute_result"
    }
   ],
   "source": [
    "title_list"
   ]
  },
  {
   "cell_type": "markdown",
   "metadata": {},
   "source": [
    "# iframe"
   ]
  },
  {
   "cell_type": "code",
   "execution_count": 4,
   "metadata": {},
   "outputs": [],
   "source": [
    "url = 'https://castbox.shopping.naver.com/shoppingboxnew/main.nhn'\n",
    "res = req.get(url)\n",
    "soup = bs(res.text, 'lxml')\n",
    "   \n",
    "title_list = [];\n",
    "title = soup.select('a.link_mall')\n",
    "\n",
    "\n",
    "for i in range(len(title)):\n",
    "     title_list.append(title[i].text)\n"
   ]
  },
  {
   "cell_type": "code",
   "execution_count": 99,
   "metadata": {},
   "outputs": [
    {
     "data": {
      "text/plain": [
       "['G마켓',\n",
       " '옥션',\n",
       " '11번가',\n",
       " '위메프',\n",
       " '이마트몰',\n",
       " '티몬',\n",
       " '신세계몰',\n",
       " '올리브영',\n",
       " 'GS샵',\n",
       " '롯데i몰',\n",
       " '롯데ON',\n",
       " 'CJmall']"
      ]
     },
     "execution_count": 99,
     "metadata": {},
     "output_type": "execute_result"
    }
   ],
   "source": [
    "title_list"
   ]
  },
  {
   "cell_type": "code",
   "execution_count": null,
   "metadata": {},
   "outputs": [],
   "source": []
  }
 ],
 "metadata": {
  "kernelspec": {
   "display_name": "Python 3",
   "language": "python",
   "name": "python3"
  },
  "language_info": {
   "codemirror_mode": {
    "name": "ipython",
    "version": 3
   },
   "file_extension": ".py",
   "mimetype": "text/x-python",
   "name": "python",
   "nbconvert_exporter": "python",
   "pygments_lexer": "ipython3",
   "version": "3.8.5"
  }
 },
 "nbformat": 4,
 "nbformat_minor": 4
}
