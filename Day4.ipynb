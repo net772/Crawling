{
 "cells": [
  {
   "cell_type": "markdown",
   "metadata": {},
   "source": [
    "# 영화제목 및 배우이름 "
   ]
  },
  {
   "cell_type": "code",
   "execution_count": 10,
   "metadata": {},
   "outputs": [],
   "source": [
    "import requests as req\n",
    "from bs4 import BeautifulSoup as bs\n",
    "import pandas as pd\n",
    "from selenium import webdriver as wb #웹을 통제하기 위한 모듈\n",
    "from selenium.webdriver.common.keys import Keys #웹을 통해 값을 입력하기 위한 모듈\n",
    "import time\n"
   ]
  },
  {
   "cell_type": "code",
   "execution_count": 11,
   "metadata": {},
   "outputs": [],
   "source": [
    "url = 'https://movie.naver.com/movie/sdb/rank/rmovie.nhn'\n",
    "driver = wb.Chrome()\n",
    "driver.get(url)\n"
   ]
  },
  {
   "cell_type": "code",
   "execution_count": 12,
   "metadata": {},
   "outputs": [
    {
     "ename": "KeyboardInterrupt",
     "evalue": "",
     "output_type": "error",
     "traceback": [
      "\u001b[1;31m---------------------------------------------------------------------------\u001b[0m",
      "\u001b[1;31mKeyboardInterrupt\u001b[0m                         Traceback (most recent call last)",
      "\u001b[1;32m<ipython-input-12-7af31c3e6d03>\u001b[0m in \u001b[0;36m<module>\u001b[1;34m\u001b[0m\n\u001b[0;32m      9\u001b[0m     \u001b[0mtime\u001b[0m\u001b[1;33m.\u001b[0m\u001b[0msleep\u001b[0m\u001b[1;33m(\u001b[0m\u001b[1;36m1\u001b[0m\u001b[1;33m)\u001b[0m\u001b[1;33m\u001b[0m\u001b[1;33m\u001b[0m\u001b[0m\n\u001b[0;32m     10\u001b[0m \u001b[1;33m\u001b[0m\u001b[0m\n\u001b[1;32m---> 11\u001b[1;33m     \u001b[0msoup\u001b[0m \u001b[1;33m=\u001b[0m \u001b[0mbs\u001b[0m\u001b[1;33m(\u001b[0m\u001b[0mdriver\u001b[0m\u001b[1;33m.\u001b[0m\u001b[0mpage_source\u001b[0m\u001b[1;33m,\u001b[0m \u001b[1;34m'lxml'\u001b[0m\u001b[1;33m)\u001b[0m\u001b[1;31m#페이지 정보 파싱\u001b[0m\u001b[1;33m\u001b[0m\u001b[1;33m\u001b[0m\u001b[0m\n\u001b[0m\u001b[0;32m     12\u001b[0m \u001b[1;33m\u001b[0m\u001b[0m\n\u001b[0;32m     13\u001b[0m     \u001b[0mac\u001b[0m \u001b[1;33m=\u001b[0m \u001b[0msoup\u001b[0m\u001b[1;33m.\u001b[0m\u001b[0mselect\u001b[0m\u001b[1;33m(\u001b[0m\u001b[1;34m'a.tx_people'\u001b[0m\u001b[1;33m)\u001b[0m\u001b[1;33m\u001b[0m\u001b[1;33m\u001b[0m\u001b[0m\n",
      "\u001b[1;32m~\\anaconda3\\lib\\site-packages\\selenium\\webdriver\\remote\\webdriver.py\u001b[0m in \u001b[0;36mpage_source\u001b[1;34m(self)\u001b[0m\n\u001b[0;32m    677\u001b[0m             \u001b[0mdriver\u001b[0m\u001b[1;33m.\u001b[0m\u001b[0mpage_source\u001b[0m\u001b[1;33m\u001b[0m\u001b[1;33m\u001b[0m\u001b[0m\n\u001b[0;32m    678\u001b[0m         \"\"\"\n\u001b[1;32m--> 679\u001b[1;33m         \u001b[1;32mreturn\u001b[0m \u001b[0mself\u001b[0m\u001b[1;33m.\u001b[0m\u001b[0mexecute\u001b[0m\u001b[1;33m(\u001b[0m\u001b[0mCommand\u001b[0m\u001b[1;33m.\u001b[0m\u001b[0mGET_PAGE_SOURCE\u001b[0m\u001b[1;33m)\u001b[0m\u001b[1;33m[\u001b[0m\u001b[1;34m'value'\u001b[0m\u001b[1;33m]\u001b[0m\u001b[1;33m\u001b[0m\u001b[1;33m\u001b[0m\u001b[0m\n\u001b[0m\u001b[0;32m    680\u001b[0m \u001b[1;33m\u001b[0m\u001b[0m\n\u001b[0;32m    681\u001b[0m     \u001b[1;32mdef\u001b[0m \u001b[0mclose\u001b[0m\u001b[1;33m(\u001b[0m\u001b[0mself\u001b[0m\u001b[1;33m)\u001b[0m\u001b[1;33m:\u001b[0m\u001b[1;33m\u001b[0m\u001b[1;33m\u001b[0m\u001b[0m\n",
      "\u001b[1;32m~\\anaconda3\\lib\\site-packages\\selenium\\webdriver\\remote\\webdriver.py\u001b[0m in \u001b[0;36mexecute\u001b[1;34m(self, driver_command, params)\u001b[0m\n\u001b[0;32m    317\u001b[0m \u001b[1;33m\u001b[0m\u001b[0m\n\u001b[0;32m    318\u001b[0m         \u001b[0mparams\u001b[0m \u001b[1;33m=\u001b[0m \u001b[0mself\u001b[0m\u001b[1;33m.\u001b[0m\u001b[0m_wrap_value\u001b[0m\u001b[1;33m(\u001b[0m\u001b[0mparams\u001b[0m\u001b[1;33m)\u001b[0m\u001b[1;33m\u001b[0m\u001b[1;33m\u001b[0m\u001b[0m\n\u001b[1;32m--> 319\u001b[1;33m         \u001b[0mresponse\u001b[0m \u001b[1;33m=\u001b[0m \u001b[0mself\u001b[0m\u001b[1;33m.\u001b[0m\u001b[0mcommand_executor\u001b[0m\u001b[1;33m.\u001b[0m\u001b[0mexecute\u001b[0m\u001b[1;33m(\u001b[0m\u001b[0mdriver_command\u001b[0m\u001b[1;33m,\u001b[0m \u001b[0mparams\u001b[0m\u001b[1;33m)\u001b[0m\u001b[1;33m\u001b[0m\u001b[1;33m\u001b[0m\u001b[0m\n\u001b[0m\u001b[0;32m    320\u001b[0m         \u001b[1;32mif\u001b[0m \u001b[0mresponse\u001b[0m\u001b[1;33m:\u001b[0m\u001b[1;33m\u001b[0m\u001b[1;33m\u001b[0m\u001b[0m\n\u001b[0;32m    321\u001b[0m             \u001b[0mself\u001b[0m\u001b[1;33m.\u001b[0m\u001b[0merror_handler\u001b[0m\u001b[1;33m.\u001b[0m\u001b[0mcheck_response\u001b[0m\u001b[1;33m(\u001b[0m\u001b[0mresponse\u001b[0m\u001b[1;33m)\u001b[0m\u001b[1;33m\u001b[0m\u001b[1;33m\u001b[0m\u001b[0m\n",
      "\u001b[1;32m~\\anaconda3\\lib\\site-packages\\selenium\\webdriver\\remote\\remote_connection.py\u001b[0m in \u001b[0;36mexecute\u001b[1;34m(self, command, params)\u001b[0m\n\u001b[0;32m    372\u001b[0m         \u001b[0mdata\u001b[0m \u001b[1;33m=\u001b[0m \u001b[0mutils\u001b[0m\u001b[1;33m.\u001b[0m\u001b[0mdump_json\u001b[0m\u001b[1;33m(\u001b[0m\u001b[0mparams\u001b[0m\u001b[1;33m)\u001b[0m\u001b[1;33m\u001b[0m\u001b[1;33m\u001b[0m\u001b[0m\n\u001b[0;32m    373\u001b[0m         \u001b[0murl\u001b[0m \u001b[1;33m=\u001b[0m \u001b[1;34m'%s%s'\u001b[0m \u001b[1;33m%\u001b[0m \u001b[1;33m(\u001b[0m\u001b[0mself\u001b[0m\u001b[1;33m.\u001b[0m\u001b[0m_url\u001b[0m\u001b[1;33m,\u001b[0m \u001b[0mpath\u001b[0m\u001b[1;33m)\u001b[0m\u001b[1;33m\u001b[0m\u001b[1;33m\u001b[0m\u001b[0m\n\u001b[1;32m--> 374\u001b[1;33m         \u001b[1;32mreturn\u001b[0m \u001b[0mself\u001b[0m\u001b[1;33m.\u001b[0m\u001b[0m_request\u001b[0m\u001b[1;33m(\u001b[0m\u001b[0mcommand_info\u001b[0m\u001b[1;33m[\u001b[0m\u001b[1;36m0\u001b[0m\u001b[1;33m]\u001b[0m\u001b[1;33m,\u001b[0m \u001b[0murl\u001b[0m\u001b[1;33m,\u001b[0m \u001b[0mbody\u001b[0m\u001b[1;33m=\u001b[0m\u001b[0mdata\u001b[0m\u001b[1;33m)\u001b[0m\u001b[1;33m\u001b[0m\u001b[1;33m\u001b[0m\u001b[0m\n\u001b[0m\u001b[0;32m    375\u001b[0m \u001b[1;33m\u001b[0m\u001b[0m\n\u001b[0;32m    376\u001b[0m     \u001b[1;32mdef\u001b[0m \u001b[0m_request\u001b[0m\u001b[1;33m(\u001b[0m\u001b[0mself\u001b[0m\u001b[1;33m,\u001b[0m \u001b[0mmethod\u001b[0m\u001b[1;33m,\u001b[0m \u001b[0murl\u001b[0m\u001b[1;33m,\u001b[0m \u001b[0mbody\u001b[0m\u001b[1;33m=\u001b[0m\u001b[1;32mNone\u001b[0m\u001b[1;33m)\u001b[0m\u001b[1;33m:\u001b[0m\u001b[1;33m\u001b[0m\u001b[1;33m\u001b[0m\u001b[0m\n",
      "\u001b[1;32m~\\anaconda3\\lib\\site-packages\\selenium\\webdriver\\remote\\remote_connection.py\u001b[0m in \u001b[0;36m_request\u001b[1;34m(self, method, url, body)\u001b[0m\n\u001b[0;32m    395\u001b[0m \u001b[1;33m\u001b[0m\u001b[0m\n\u001b[0;32m    396\u001b[0m         \u001b[1;32mif\u001b[0m \u001b[0mself\u001b[0m\u001b[1;33m.\u001b[0m\u001b[0mkeep_alive\u001b[0m\u001b[1;33m:\u001b[0m\u001b[1;33m\u001b[0m\u001b[1;33m\u001b[0m\u001b[0m\n\u001b[1;32m--> 397\u001b[1;33m             \u001b[0mresp\u001b[0m \u001b[1;33m=\u001b[0m \u001b[0mself\u001b[0m\u001b[1;33m.\u001b[0m\u001b[0m_conn\u001b[0m\u001b[1;33m.\u001b[0m\u001b[0mrequest\u001b[0m\u001b[1;33m(\u001b[0m\u001b[0mmethod\u001b[0m\u001b[1;33m,\u001b[0m \u001b[0murl\u001b[0m\u001b[1;33m,\u001b[0m \u001b[0mbody\u001b[0m\u001b[1;33m=\u001b[0m\u001b[0mbody\u001b[0m\u001b[1;33m,\u001b[0m \u001b[0mheaders\u001b[0m\u001b[1;33m=\u001b[0m\u001b[0mheaders\u001b[0m\u001b[1;33m)\u001b[0m\u001b[1;33m\u001b[0m\u001b[1;33m\u001b[0m\u001b[0m\n\u001b[0m\u001b[0;32m    398\u001b[0m \u001b[1;33m\u001b[0m\u001b[0m\n\u001b[0;32m    399\u001b[0m             \u001b[0mstatuscode\u001b[0m \u001b[1;33m=\u001b[0m \u001b[0mresp\u001b[0m\u001b[1;33m.\u001b[0m\u001b[0mstatus\u001b[0m\u001b[1;33m\u001b[0m\u001b[1;33m\u001b[0m\u001b[0m\n",
      "\u001b[1;32m~\\anaconda3\\lib\\site-packages\\urllib3\\request.py\u001b[0m in \u001b[0;36mrequest\u001b[1;34m(self, method, url, fields, headers, **urlopen_kw)\u001b[0m\n\u001b[0;32m     73\u001b[0m \u001b[1;33m\u001b[0m\u001b[0m\n\u001b[0;32m     74\u001b[0m         \u001b[1;32mif\u001b[0m \u001b[0mmethod\u001b[0m \u001b[1;32min\u001b[0m \u001b[0mself\u001b[0m\u001b[1;33m.\u001b[0m\u001b[0m_encode_url_methods\u001b[0m\u001b[1;33m:\u001b[0m\u001b[1;33m\u001b[0m\u001b[1;33m\u001b[0m\u001b[0m\n\u001b[1;32m---> 75\u001b[1;33m             return self.request_encode_url(\n\u001b[0m\u001b[0;32m     76\u001b[0m                 \u001b[0mmethod\u001b[0m\u001b[1;33m,\u001b[0m \u001b[0murl\u001b[0m\u001b[1;33m,\u001b[0m \u001b[0mfields\u001b[0m\u001b[1;33m=\u001b[0m\u001b[0mfields\u001b[0m\u001b[1;33m,\u001b[0m \u001b[0mheaders\u001b[0m\u001b[1;33m=\u001b[0m\u001b[0mheaders\u001b[0m\u001b[1;33m,\u001b[0m \u001b[1;33m**\u001b[0m\u001b[0murlopen_kw\u001b[0m\u001b[1;33m\u001b[0m\u001b[1;33m\u001b[0m\u001b[0m\n\u001b[0;32m     77\u001b[0m             )\n",
      "\u001b[1;32m~\\anaconda3\\lib\\site-packages\\urllib3\\request.py\u001b[0m in \u001b[0;36mrequest_encode_url\u001b[1;34m(self, method, url, fields, headers, **urlopen_kw)\u001b[0m\n\u001b[0;32m     95\u001b[0m             \u001b[0murl\u001b[0m \u001b[1;33m+=\u001b[0m \u001b[1;34m\"?\"\u001b[0m \u001b[1;33m+\u001b[0m \u001b[0murlencode\u001b[0m\u001b[1;33m(\u001b[0m\u001b[0mfields\u001b[0m\u001b[1;33m)\u001b[0m\u001b[1;33m\u001b[0m\u001b[1;33m\u001b[0m\u001b[0m\n\u001b[0;32m     96\u001b[0m \u001b[1;33m\u001b[0m\u001b[0m\n\u001b[1;32m---> 97\u001b[1;33m         \u001b[1;32mreturn\u001b[0m \u001b[0mself\u001b[0m\u001b[1;33m.\u001b[0m\u001b[0murlopen\u001b[0m\u001b[1;33m(\u001b[0m\u001b[0mmethod\u001b[0m\u001b[1;33m,\u001b[0m \u001b[0murl\u001b[0m\u001b[1;33m,\u001b[0m \u001b[1;33m**\u001b[0m\u001b[0mextra_kw\u001b[0m\u001b[1;33m)\u001b[0m\u001b[1;33m\u001b[0m\u001b[1;33m\u001b[0m\u001b[0m\n\u001b[0m\u001b[0;32m     98\u001b[0m \u001b[1;33m\u001b[0m\u001b[0m\n\u001b[0;32m     99\u001b[0m     def request_encode_body(\n",
      "\u001b[1;32m~\\anaconda3\\lib\\site-packages\\urllib3\\poolmanager.py\u001b[0m in \u001b[0;36murlopen\u001b[1;34m(self, method, url, redirect, **kw)\u001b[0m\n\u001b[0;32m    334\u001b[0m             \u001b[0mresponse\u001b[0m \u001b[1;33m=\u001b[0m \u001b[0mconn\u001b[0m\u001b[1;33m.\u001b[0m\u001b[0murlopen\u001b[0m\u001b[1;33m(\u001b[0m\u001b[0mmethod\u001b[0m\u001b[1;33m,\u001b[0m \u001b[0murl\u001b[0m\u001b[1;33m,\u001b[0m \u001b[1;33m**\u001b[0m\u001b[0mkw\u001b[0m\u001b[1;33m)\u001b[0m\u001b[1;33m\u001b[0m\u001b[1;33m\u001b[0m\u001b[0m\n\u001b[0;32m    335\u001b[0m         \u001b[1;32melse\u001b[0m\u001b[1;33m:\u001b[0m\u001b[1;33m\u001b[0m\u001b[1;33m\u001b[0m\u001b[0m\n\u001b[1;32m--> 336\u001b[1;33m             \u001b[0mresponse\u001b[0m \u001b[1;33m=\u001b[0m \u001b[0mconn\u001b[0m\u001b[1;33m.\u001b[0m\u001b[0murlopen\u001b[0m\u001b[1;33m(\u001b[0m\u001b[0mmethod\u001b[0m\u001b[1;33m,\u001b[0m \u001b[0mu\u001b[0m\u001b[1;33m.\u001b[0m\u001b[0mrequest_uri\u001b[0m\u001b[1;33m,\u001b[0m \u001b[1;33m**\u001b[0m\u001b[0mkw\u001b[0m\u001b[1;33m)\u001b[0m\u001b[1;33m\u001b[0m\u001b[1;33m\u001b[0m\u001b[0m\n\u001b[0m\u001b[0;32m    337\u001b[0m \u001b[1;33m\u001b[0m\u001b[0m\n\u001b[0;32m    338\u001b[0m         \u001b[0mredirect_location\u001b[0m \u001b[1;33m=\u001b[0m \u001b[0mredirect\u001b[0m \u001b[1;32mand\u001b[0m \u001b[0mresponse\u001b[0m\u001b[1;33m.\u001b[0m\u001b[0mget_redirect_location\u001b[0m\u001b[1;33m(\u001b[0m\u001b[1;33m)\u001b[0m\u001b[1;33m\u001b[0m\u001b[1;33m\u001b[0m\u001b[0m\n",
      "\u001b[1;32m~\\anaconda3\\lib\\site-packages\\urllib3\\connectionpool.py\u001b[0m in \u001b[0;36murlopen\u001b[1;34m(self, method, url, body, headers, retries, redirect, assert_same_host, timeout, pool_timeout, release_conn, chunked, body_pos, **response_kw)\u001b[0m\n\u001b[0;32m    668\u001b[0m \u001b[1;33m\u001b[0m\u001b[0m\n\u001b[0;32m    669\u001b[0m             \u001b[1;31m# Make the request on the httplib connection object.\u001b[0m\u001b[1;33m\u001b[0m\u001b[1;33m\u001b[0m\u001b[1;33m\u001b[0m\u001b[0m\n\u001b[1;32m--> 670\u001b[1;33m             httplib_response = self._make_request(\n\u001b[0m\u001b[0;32m    671\u001b[0m                 \u001b[0mconn\u001b[0m\u001b[1;33m,\u001b[0m\u001b[1;33m\u001b[0m\u001b[1;33m\u001b[0m\u001b[0m\n\u001b[0;32m    672\u001b[0m                 \u001b[0mmethod\u001b[0m\u001b[1;33m,\u001b[0m\u001b[1;33m\u001b[0m\u001b[1;33m\u001b[0m\u001b[0m\n",
      "\u001b[1;32m~\\anaconda3\\lib\\site-packages\\urllib3\\connectionpool.py\u001b[0m in \u001b[0;36m_make_request\u001b[1;34m(self, conn, method, url, timeout, chunked, **httplib_request_kw)\u001b[0m\n\u001b[0;32m    424\u001b[0m                     \u001b[1;31m# Python 3 (including for exceptions like SystemExit).\u001b[0m\u001b[1;33m\u001b[0m\u001b[1;33m\u001b[0m\u001b[1;33m\u001b[0m\u001b[0m\n\u001b[0;32m    425\u001b[0m                     \u001b[1;31m# Otherwise it looks like a bug in the code.\u001b[0m\u001b[1;33m\u001b[0m\u001b[1;33m\u001b[0m\u001b[1;33m\u001b[0m\u001b[0m\n\u001b[1;32m--> 426\u001b[1;33m                     \u001b[0msix\u001b[0m\u001b[1;33m.\u001b[0m\u001b[0mraise_from\u001b[0m\u001b[1;33m(\u001b[0m\u001b[0me\u001b[0m\u001b[1;33m,\u001b[0m \u001b[1;32mNone\u001b[0m\u001b[1;33m)\u001b[0m\u001b[1;33m\u001b[0m\u001b[1;33m\u001b[0m\u001b[0m\n\u001b[0m\u001b[0;32m    427\u001b[0m         \u001b[1;32mexcept\u001b[0m \u001b[1;33m(\u001b[0m\u001b[0mSocketTimeout\u001b[0m\u001b[1;33m,\u001b[0m \u001b[0mBaseSSLError\u001b[0m\u001b[1;33m,\u001b[0m \u001b[0mSocketError\u001b[0m\u001b[1;33m)\u001b[0m \u001b[1;32mas\u001b[0m \u001b[0me\u001b[0m\u001b[1;33m:\u001b[0m\u001b[1;33m\u001b[0m\u001b[1;33m\u001b[0m\u001b[0m\n\u001b[0;32m    428\u001b[0m             \u001b[0mself\u001b[0m\u001b[1;33m.\u001b[0m\u001b[0m_raise_timeout\u001b[0m\u001b[1;33m(\u001b[0m\u001b[0merr\u001b[0m\u001b[1;33m=\u001b[0m\u001b[0me\u001b[0m\u001b[1;33m,\u001b[0m \u001b[0murl\u001b[0m\u001b[1;33m=\u001b[0m\u001b[0murl\u001b[0m\u001b[1;33m,\u001b[0m \u001b[0mtimeout_value\u001b[0m\u001b[1;33m=\u001b[0m\u001b[0mread_timeout\u001b[0m\u001b[1;33m)\u001b[0m\u001b[1;33m\u001b[0m\u001b[1;33m\u001b[0m\u001b[0m\n",
      "\u001b[1;32m~\\anaconda3\\lib\\site-packages\\urllib3\\packages\\six.py\u001b[0m in \u001b[0;36mraise_from\u001b[1;34m(value, from_value)\u001b[0m\n",
      "\u001b[1;32m~\\anaconda3\\lib\\site-packages\\urllib3\\connectionpool.py\u001b[0m in \u001b[0;36m_make_request\u001b[1;34m(self, conn, method, url, timeout, chunked, **httplib_request_kw)\u001b[0m\n\u001b[0;32m    419\u001b[0m                 \u001b[1;31m# Python 3\u001b[0m\u001b[1;33m\u001b[0m\u001b[1;33m\u001b[0m\u001b[1;33m\u001b[0m\u001b[0m\n\u001b[0;32m    420\u001b[0m                 \u001b[1;32mtry\u001b[0m\u001b[1;33m:\u001b[0m\u001b[1;33m\u001b[0m\u001b[1;33m\u001b[0m\u001b[0m\n\u001b[1;32m--> 421\u001b[1;33m                     \u001b[0mhttplib_response\u001b[0m \u001b[1;33m=\u001b[0m \u001b[0mconn\u001b[0m\u001b[1;33m.\u001b[0m\u001b[0mgetresponse\u001b[0m\u001b[1;33m(\u001b[0m\u001b[1;33m)\u001b[0m\u001b[1;33m\u001b[0m\u001b[1;33m\u001b[0m\u001b[0m\n\u001b[0m\u001b[0;32m    422\u001b[0m                 \u001b[1;32mexcept\u001b[0m \u001b[0mBaseException\u001b[0m \u001b[1;32mas\u001b[0m \u001b[0me\u001b[0m\u001b[1;33m:\u001b[0m\u001b[1;33m\u001b[0m\u001b[1;33m\u001b[0m\u001b[0m\n\u001b[0;32m    423\u001b[0m                     \u001b[1;31m# Remove the TypeError from the exception chain in\u001b[0m\u001b[1;33m\u001b[0m\u001b[1;33m\u001b[0m\u001b[1;33m\u001b[0m\u001b[0m\n",
      "\u001b[1;32m~\\anaconda3\\lib\\http\\client.py\u001b[0m in \u001b[0;36mgetresponse\u001b[1;34m(self)\u001b[0m\n\u001b[0;32m   1345\u001b[0m         \u001b[1;32mtry\u001b[0m\u001b[1;33m:\u001b[0m\u001b[1;33m\u001b[0m\u001b[1;33m\u001b[0m\u001b[0m\n\u001b[0;32m   1346\u001b[0m             \u001b[1;32mtry\u001b[0m\u001b[1;33m:\u001b[0m\u001b[1;33m\u001b[0m\u001b[1;33m\u001b[0m\u001b[0m\n\u001b[1;32m-> 1347\u001b[1;33m                 \u001b[0mresponse\u001b[0m\u001b[1;33m.\u001b[0m\u001b[0mbegin\u001b[0m\u001b[1;33m(\u001b[0m\u001b[1;33m)\u001b[0m\u001b[1;33m\u001b[0m\u001b[1;33m\u001b[0m\u001b[0m\n\u001b[0m\u001b[0;32m   1348\u001b[0m             \u001b[1;32mexcept\u001b[0m \u001b[0mConnectionError\u001b[0m\u001b[1;33m:\u001b[0m\u001b[1;33m\u001b[0m\u001b[1;33m\u001b[0m\u001b[0m\n\u001b[0;32m   1349\u001b[0m                 \u001b[0mself\u001b[0m\u001b[1;33m.\u001b[0m\u001b[0mclose\u001b[0m\u001b[1;33m(\u001b[0m\u001b[1;33m)\u001b[0m\u001b[1;33m\u001b[0m\u001b[1;33m\u001b[0m\u001b[0m\n",
      "\u001b[1;32m~\\anaconda3\\lib\\http\\client.py\u001b[0m in \u001b[0;36mbegin\u001b[1;34m(self)\u001b[0m\n\u001b[0;32m    305\u001b[0m         \u001b[1;31m# read until we get a non-100 response\u001b[0m\u001b[1;33m\u001b[0m\u001b[1;33m\u001b[0m\u001b[1;33m\u001b[0m\u001b[0m\n\u001b[0;32m    306\u001b[0m         \u001b[1;32mwhile\u001b[0m \u001b[1;32mTrue\u001b[0m\u001b[1;33m:\u001b[0m\u001b[1;33m\u001b[0m\u001b[1;33m\u001b[0m\u001b[0m\n\u001b[1;32m--> 307\u001b[1;33m             \u001b[0mversion\u001b[0m\u001b[1;33m,\u001b[0m \u001b[0mstatus\u001b[0m\u001b[1;33m,\u001b[0m \u001b[0mreason\u001b[0m \u001b[1;33m=\u001b[0m \u001b[0mself\u001b[0m\u001b[1;33m.\u001b[0m\u001b[0m_read_status\u001b[0m\u001b[1;33m(\u001b[0m\u001b[1;33m)\u001b[0m\u001b[1;33m\u001b[0m\u001b[1;33m\u001b[0m\u001b[0m\n\u001b[0m\u001b[0;32m    308\u001b[0m             \u001b[1;32mif\u001b[0m \u001b[0mstatus\u001b[0m \u001b[1;33m!=\u001b[0m \u001b[0mCONTINUE\u001b[0m\u001b[1;33m:\u001b[0m\u001b[1;33m\u001b[0m\u001b[1;33m\u001b[0m\u001b[0m\n\u001b[0;32m    309\u001b[0m                 \u001b[1;32mbreak\u001b[0m\u001b[1;33m\u001b[0m\u001b[1;33m\u001b[0m\u001b[0m\n",
      "\u001b[1;32m~\\anaconda3\\lib\\http\\client.py\u001b[0m in \u001b[0;36m_read_status\u001b[1;34m(self)\u001b[0m\n\u001b[0;32m    266\u001b[0m \u001b[1;33m\u001b[0m\u001b[0m\n\u001b[0;32m    267\u001b[0m     \u001b[1;32mdef\u001b[0m \u001b[0m_read_status\u001b[0m\u001b[1;33m(\u001b[0m\u001b[0mself\u001b[0m\u001b[1;33m)\u001b[0m\u001b[1;33m:\u001b[0m\u001b[1;33m\u001b[0m\u001b[1;33m\u001b[0m\u001b[0m\n\u001b[1;32m--> 268\u001b[1;33m         \u001b[0mline\u001b[0m \u001b[1;33m=\u001b[0m \u001b[0mstr\u001b[0m\u001b[1;33m(\u001b[0m\u001b[0mself\u001b[0m\u001b[1;33m.\u001b[0m\u001b[0mfp\u001b[0m\u001b[1;33m.\u001b[0m\u001b[0mreadline\u001b[0m\u001b[1;33m(\u001b[0m\u001b[0m_MAXLINE\u001b[0m \u001b[1;33m+\u001b[0m \u001b[1;36m1\u001b[0m\u001b[1;33m)\u001b[0m\u001b[1;33m,\u001b[0m \u001b[1;34m\"iso-8859-1\"\u001b[0m\u001b[1;33m)\u001b[0m\u001b[1;33m\u001b[0m\u001b[1;33m\u001b[0m\u001b[0m\n\u001b[0m\u001b[0;32m    269\u001b[0m         \u001b[1;32mif\u001b[0m \u001b[0mlen\u001b[0m\u001b[1;33m(\u001b[0m\u001b[0mline\u001b[0m\u001b[1;33m)\u001b[0m \u001b[1;33m>\u001b[0m \u001b[0m_MAXLINE\u001b[0m\u001b[1;33m:\u001b[0m\u001b[1;33m\u001b[0m\u001b[1;33m\u001b[0m\u001b[0m\n\u001b[0;32m    270\u001b[0m             \u001b[1;32mraise\u001b[0m \u001b[0mLineTooLong\u001b[0m\u001b[1;33m(\u001b[0m\u001b[1;34m\"status line\"\u001b[0m\u001b[1;33m)\u001b[0m\u001b[1;33m\u001b[0m\u001b[1;33m\u001b[0m\u001b[0m\n",
      "\u001b[1;32m~\\anaconda3\\lib\\socket.py\u001b[0m in \u001b[0;36mreadinto\u001b[1;34m(self, b)\u001b[0m\n\u001b[0;32m    667\u001b[0m         \u001b[1;32mwhile\u001b[0m \u001b[1;32mTrue\u001b[0m\u001b[1;33m:\u001b[0m\u001b[1;33m\u001b[0m\u001b[1;33m\u001b[0m\u001b[0m\n\u001b[0;32m    668\u001b[0m             \u001b[1;32mtry\u001b[0m\u001b[1;33m:\u001b[0m\u001b[1;33m\u001b[0m\u001b[1;33m\u001b[0m\u001b[0m\n\u001b[1;32m--> 669\u001b[1;33m                 \u001b[1;32mreturn\u001b[0m \u001b[0mself\u001b[0m\u001b[1;33m.\u001b[0m\u001b[0m_sock\u001b[0m\u001b[1;33m.\u001b[0m\u001b[0mrecv_into\u001b[0m\u001b[1;33m(\u001b[0m\u001b[0mb\u001b[0m\u001b[1;33m)\u001b[0m\u001b[1;33m\u001b[0m\u001b[1;33m\u001b[0m\u001b[0m\n\u001b[0m\u001b[0;32m    670\u001b[0m             \u001b[1;32mexcept\u001b[0m \u001b[0mtimeout\u001b[0m\u001b[1;33m:\u001b[0m\u001b[1;33m\u001b[0m\u001b[1;33m\u001b[0m\u001b[0m\n\u001b[0;32m    671\u001b[0m                 \u001b[0mself\u001b[0m\u001b[1;33m.\u001b[0m\u001b[0m_timeout_occurred\u001b[0m \u001b[1;33m=\u001b[0m \u001b[1;32mTrue\u001b[0m\u001b[1;33m\u001b[0m\u001b[1;33m\u001b[0m\u001b[0m\n",
      "\u001b[1;31mKeyboardInterrupt\u001b[0m: "
     ]
    }
   ],
   "source": [
    "title = driver.find_elements_by_class_name('tit3>a')\n",
    "\n",
    "ac_list = []\n",
    "title_n_list = []\n",
    "\n",
    "for i in range(len(title)) :\n",
    "    title = driver.find_elements_by_class_name('tit3>a')\n",
    "    title[i].click() #영화페이지 접속\n",
    "    time.sleep(1)\n",
    "\n",
    "    soup = bs(driver.page_source, 'lxml')#페이지 정보 파싱\n",
    "\n",
    "    ac = soup.select('a.tx_people')\n",
    "    title_name = soup.select('h3.h_movie > a:nth-child(1)')\n",
    "\n",
    "    for i in range(len(ac)):\n",
    "        title_n_list.append(title_name[0].text)\n",
    "        ac_list.append(ac[i].text)\n",
    "    driver.back();\n",
    "    time.sleep(1)\n",
    "    "
   ]
  },
  {
   "cell_type": "code",
   "execution_count": 108,
   "metadata": {},
   "outputs": [],
   "source": [
    "dic = {'영화 제목' : title_n_list, '배우' : ac_list }\n",
    "df = pd.DataFrame(dic)"
   ]
  },
  {
   "cell_type": "code",
   "execution_count": 109,
   "metadata": {},
   "outputs": [
    {
     "data": {
      "text/html": [
       "<div>\n",
       "<style scoped>\n",
       "    .dataframe tbody tr th:only-of-type {\n",
       "        vertical-align: middle;\n",
       "    }\n",
       "\n",
       "    .dataframe tbody tr th {\n",
       "        vertical-align: top;\n",
       "    }\n",
       "\n",
       "    .dataframe thead th {\n",
       "        text-align: right;\n",
       "    }\n",
       "</style>\n",
       "<table border=\"1\" class=\"dataframe\">\n",
       "  <thead>\n",
       "    <tr style=\"text-align: right;\">\n",
       "      <th></th>\n",
       "      <th>영화 제목</th>\n",
       "      <th>배우</th>\n",
       "    </tr>\n",
       "  </thead>\n",
       "  <tbody>\n",
       "    <tr>\n",
       "      <th>0</th>\n",
       "      <td>소울</td>\n",
       "      <td>피트 닥터</td>\n",
       "    </tr>\n",
       "    <tr>\n",
       "      <th>1</th>\n",
       "      <td>소울</td>\n",
       "      <td>제이미 폭스</td>\n",
       "    </tr>\n",
       "    <tr>\n",
       "      <th>2</th>\n",
       "      <td>소울</td>\n",
       "      <td>티나 페이</td>\n",
       "    </tr>\n",
       "    <tr>\n",
       "      <th>3</th>\n",
       "      <td>소울</td>\n",
       "      <td>다비드 딕스</td>\n",
       "    </tr>\n",
       "    <tr>\n",
       "      <th>4</th>\n",
       "      <td>소울</td>\n",
       "      <td>필리샤 라샤드</td>\n",
       "    </tr>\n",
       "    <tr>\n",
       "      <th>...</th>\n",
       "      <td>...</td>\n",
       "      <td>...</td>\n",
       "    </tr>\n",
       "    <tr>\n",
       "      <th>270</th>\n",
       "      <td>토이 솔져스: 가짜사나이2 더 컴플리트</td>\n",
       "      <td>김병지</td>\n",
       "    </tr>\n",
       "    <tr>\n",
       "      <th>271</th>\n",
       "      <td>토이 솔져스: 가짜사나이2 더 컴플리트</td>\n",
       "      <td>줄리엔 강</td>\n",
       "    </tr>\n",
       "    <tr>\n",
       "      <th>272</th>\n",
       "      <td>토이 솔져스: 가짜사나이2 더 컴플리트</td>\n",
       "      <td>힘의길</td>\n",
       "    </tr>\n",
       "    <tr>\n",
       "      <th>273</th>\n",
       "      <td>토이 솔져스: 가짜사나이2 더 컴플리트</td>\n",
       "      <td>이과장</td>\n",
       "    </tr>\n",
       "    <tr>\n",
       "      <th>274</th>\n",
       "      <td>토이 솔져스: 가짜사나이2 더 컴플리트</td>\n",
       "      <td>곽윤기</td>\n",
       "    </tr>\n",
       "  </tbody>\n",
       "</table>\n",
       "<p>275 rows × 2 columns</p>\n",
       "</div>"
      ],
      "text/plain": [
       "                     영화 제목       배우\n",
       "0                       소울    피트 닥터\n",
       "1                       소울   제이미 폭스\n",
       "2                       소울    티나 페이\n",
       "3                       소울   다비드 딕스\n",
       "4                       소울  필리샤 라샤드\n",
       "..                     ...      ...\n",
       "270  토이 솔져스: 가짜사나이2 더 컴플리트      김병지\n",
       "271  토이 솔져스: 가짜사나이2 더 컴플리트    줄리엔 강\n",
       "272  토이 솔져스: 가짜사나이2 더 컴플리트      힘의길\n",
       "273  토이 솔져스: 가짜사나이2 더 컴플리트      이과장\n",
       "274  토이 솔져스: 가짜사나이2 더 컴플리트      곽윤기\n",
       "\n",
       "[275 rows x 2 columns]"
      ]
     },
     "execution_count": 109,
     "metadata": {},
     "output_type": "execute_result"
    }
   ],
   "source": [
    "df"
   ]
  },
  {
   "cell_type": "markdown",
   "metadata": {},
   "source": [
    "# 이미지 크롤링"
   ]
  },
  {
   "cell_type": "code",
   "execution_count": 112,
   "metadata": {},
   "outputs": [],
   "source": [
    "import os   # 파일, 폴더를 생성, 삭제, 존재여부\n",
    "from urllib.request import urlretrieve #이미지경로를 파일로 저장"
   ]
  },
  {
   "cell_type": "code",
   "execution_count": 113,
   "metadata": {},
   "outputs": [
    {
     "data": {
      "text/plain": [
       "False"
      ]
     },
     "execution_count": 113,
     "metadata": {},
     "output_type": "execute_result"
    }
   ],
   "source": [
    "os.path.isdir('./이미지') #폴더or파일존재 여부 파악"
   ]
  },
  {
   "cell_type": "code",
   "execution_count": 114,
   "metadata": {},
   "outputs": [],
   "source": [
    "if not os.path.isdir('./이미지') :\n",
    "    os.mkdir('./이미지')#폴더생성"
   ]
  },
  {
   "cell_type": "code",
   "execution_count": 116,
   "metadata": {},
   "outputs": [],
   "source": [
    "url = 'https://search.naver.com/search.naver?where=image&sm=tab_jum&query=%EC%8B%9C%EA%B3%A0%EB%A5%B4%EC%9E%90%EB%B8%8C%EC%A2%85'\n",
    "driver = wb.Chrome()\n",
    "driver.get(url)\n"
   ]
  },
  {
   "cell_type": "code",
   "execution_count": 118,
   "metadata": {},
   "outputs": [],
   "source": [
    "soup = bs(driver.page_source, 'lxml')\n",
    "img = soup.select('._listImage')"
   ]
  },
  {
   "cell_type": "code",
   "execution_count": 120,
   "metadata": {},
   "outputs": [
    {
     "data": {
      "text/plain": [
       "'https://search.pstatic.net/common/?src=http%3A%2F%2Fblogfiles.naver.net%2FMjAyMDExMDRfMTAg%2FMDAxNjA0NDcyMTI2NTUy.wLuQDOM0RJKzmzDqDbdMohCDKLj9N7yT_AkjlzszYBEg.SeJfqzrtItef8dgVQUg7LQQFaMTQWDO1xrgwArlSm-cg.JPEG.coki7816%2FKakaoTalk_20201104_144509465_13.jpg&type=a340'"
      ]
     },
     "execution_count": 120,
     "metadata": {},
     "output_type": "execute_result"
    }
   ],
   "source": [
    "img[0]['src']"
   ]
  },
  {
   "cell_type": "code",
   "execution_count": 131,
   "metadata": {},
   "outputs": [],
   "source": [
    "img_list = []\n",
    "\n",
    "for i in img:\n",
    "    try:\n",
    "        img_list.append(i['data-lazy-src'])\n",
    "    except:\n",
    "        img_list.append(i['src'])"
   ]
  },
  {
   "cell_type": "code",
   "execution_count": 134,
   "metadata": {},
   "outputs": [
    {
     "data": {
      "text/plain": [
       "['https://search.pstatic.net/common/?src=http%3A%2F%2Fblogfiles.naver.net%2FMjAyMDExMDRfMTAg%2FMDAxNjA0NDcyMTI2NTUy.wLuQDOM0RJKzmzDqDbdMohCDKLj9N7yT_AkjlzszYBEg.SeJfqzrtItef8dgVQUg7LQQFaMTQWDO1xrgwArlSm-cg.JPEG.coki7816%2FKakaoTalk_20201104_144509465_13.jpg&type=a340',\n",
       " 'https://search.pstatic.net/common/?src=http%3A%2F%2Fblogfiles.naver.net%2FMjAyMDEyMTBfMjE3%2FMDAxNjA3NjAzMzgyMDg5.byG2em2QBLUVPFOpkJ85b7kpS9J0uxCue5GbrzsN1IUg.lMNZPIiP7BS4Vr3arxN7a5wQ9IW3j2l25F7GEJwPrfQg.JPEG.newisher%2Foutput_2647759709.jpg&type=a340',\n",
       " 'https://search.pstatic.net/common/?src=http%3A%2F%2Fblogfiles.naver.net%2FMjAyMDEyMjdfMTY4%2FMDAxNjA5MDYwNTcyMjQ0.MLvwBF7Rbfd_ff8AiF7tYSUoEeEsSv5gUB9yyWhl1A8g.88CaHzyXwjGl5RJQ6tBA3x84c3zkHhriDoHz0XkXrxIg.JPEG.7ll02%2FIMG_1766.JPG&type=a340',\n",
       " 'https://search.pstatic.net/common/?src=http%3A%2F%2Fblogfiles.naver.net%2FMjAyMDA5MTRfMTUg%2FMDAxNjAwMDQwMzE3NDAx.KkSR0qqzSJCHG7QSW0d4gh34Ujbwv99QGZSEN5DCgO8g.eU-j-Jvw831ZVjkSangIq6gI6BpfxHYfGP0DMyoF_XMg.JPEG.babssal%2F1600040312809.jpg&type=a340',\n",
       " 'https://search.pstatic.net/common/?src=http%3A%2F%2Fblogfiles.naver.net%2FMjAyMTAxMDRfMjQy%2FMDAxNjA5NzY0MDYwNzQw.ZmuNwJTABlOmifs2NnBH75e9Zf0-mxpUSN4913zVUoog.79SBQGWT8PvV40oyhvkzhSy3glBJgR8tPVV2e8eTVA8g.JPEG.h1004326%2FNaverBlog_20210104_214100_09.jpg&type=a340',\n",
       " 'https://search.pstatic.net/common/?src=http%3A%2F%2Fblogfiles.naver.net%2FMjAyMDExMDZfMTEx%2FMDAxNjA0NjY5NjQwNDE5.l887rmxXcfPDim3IafwC6PX6JCfyhOvMAq_HTGLONWsg.cLNv8oZzwWGOj9_JuSQ6v4vKwPzqIPiLH9k4br5XIREg.JPEG.master7935%2FIMG_8267.JPG&type=a340',\n",
       " 'https://search.pstatic.net/common/?src=http%3A%2F%2Fblogfiles.naver.net%2FMjAyMDEwMDRfMTkz%2FMDAxNjAxNzU0NzAxMDMw.LMnkGwDKTAFssxoMxG1fmpvkmjHBzHrZFjn9R1PWTrog.YQsICX5lujyhZApdyZ1Vlp5MU72aHe7isW-y_EJ1ivIg.JPEG.kitty8756%2Foutput_2471540784.jpg&type=a340',\n",
       " 'https://search.pstatic.net/common/?src=http%3A%2F%2Fblogfiles.naver.net%2FMjAyMTAxMTdfMzQg%2FMDAxNjEwODQ5MTMzMjU3.6aelLU-hyk3AvJ_-8xV2zZPgHPYBwLdpWTqlx0FiU6Ig.7qVVWmtkd22_XA-kjRYS2Hhy0X9BuV-ZMO21dmg1flYg.PNG.wing7031%2Fimage.png&type=a340',\n",
       " 'https://search.pstatic.net/common/?src=http%3A%2F%2Fblogfiles.naver.net%2FMjAyMDEyMzBfMjEz%2FMDAxNjA5MjkzNDMxMDQ2.ZfZMpZLM4QKQxO3vVlCLP_IDHTQsYtQek7cgfjcPhTQg.zlb0l9afj2BngbTypCkDdLKwEqq5phKBp1Uj982D6XUg.JPEG.0530hh%2FKakaoTalk_20201230_104323430_02.jpg&type=a340',\n",
       " 'https://search.pstatic.net/common/?src=http%3A%2F%2Fblogfiles.naver.net%2FMjAyMTAxMDhfMTE3%2FMDAxNjEwMDc0NzEwMTIy.gXcfq969TVTEZP_xqSe7RLwOFxho7XY82nCaQaZpIWsg.JbDkTKzXL9LhgOAxzFVpMH6jNX6uQmY-i20TGG4XIvQg.JPEG.jackkay%2FIMG_1782.JPG&type=a340',\n",
       " 'https://search.pstatic.net/common/?src=http%3A%2F%2Fblogfiles.naver.net%2FMjAyMTAxMDNfMyAg%2FMDAxNjA5NjY3NTg1Nzcy.CfnDbeXU9OJ_7zbBr7er5RfWqnKuVmPxlcBzYWcqfncg.pF14F_TI4IqqkJ6qd-FW1LJ-Msh0ke1EkXxvp2PJrNQg.PNG.ejcinsight%2Fimage.png&type=a340',\n",
       " 'https://search.pstatic.net/common/?src=http%3A%2F%2Fblogfiles.naver.net%2FMjAyMDEyMjJfOTgg%2FMDAxNjA4NTcwMzMyMTY4.h8jHgYwfQOH6FwxkHEDDKdTGAi-wOd7ii8qSdikzUXwg.D86vhbrwUjDlUSTpfV0pTSNt-a1X7zI1tLsrfFA828Ig.JPEG.yes5572%2FIMG_4991.jpg&type=a340',\n",
       " 'https://search.pstatic.net/common/?src=http%3A%2F%2Fblogfiles.naver.net%2FMjAyMDExMTJfNjAg%2FMDAxNjA1MTc3MDk3NjM4.jsqu4ByhhMcTaGjyJQLUDsM7-4Gj8oU2CHhTgLU6WoYg.HG04QgBqfWsUdZ9scrQMwquc2CBsEGkOI5jY_LCJmUgg.JPEG.pcmm1%2FResized%25A3%25DF20201112%25A3%25DF184817.jpeg&type=a340',\n",
       " 'https://search.pstatic.net/common/?src=http%3A%2F%2Fblogfiles.naver.net%2FMjAyMDAyMTdfMjI0%2FMDAxNTgxOTQ5OTQ1NDY1.50enf_cDQMW3yLasaWFa8AWo1FXEqnptTgJZ5ZH8pe8g.JiUPOLv1BljaCKyYZbj_yedM93ZguCxUUqz9I_QQLbQg.JPEG.sujji9%2FKakaoTalk_Photo_2020-02-17-23-30-18.jpeg&type=a340',\n",
       " 'https://search.pstatic.net/common/?src=http%3A%2F%2Fblogfiles.naver.net%2FMjAyMDAyMTdfMTE0%2FMDAxNTgxOTQ5OTQ1ODY3.06BZW1E7MmMYIqdf2V5QwpXndEHs8oieD4lCRJXpV7Eg.GsU0NojHlTWnvuVC4MYvYnhrjt3p_14jDAJkX_ZFlpgg.JPEG.sujji9%2FKakaoTalk_Photo_2020-02-17-23-30-13.jpeg&type=a340',\n",
       " 'https://search.pstatic.net/common/?src=http%3A%2F%2Fblogfiles.naver.net%2FMjAyMDEwMTRfMjU3%2FMDAxNjAyNjU2NTk5MzY3.SLlwqVx8xCJm8qTnC-zXmpWW1OOq1yzaERTxtNw_d-kg.zsWVqvhWnqoRWVOihojHCKykyaGAlHpQqDn_7IMXPlQg.JPEG.park5179%2F20201013_150003.jpg&type=a340',\n",
       " 'https://search.pstatic.net/common/?src=http%3A%2F%2Fblogfiles.naver.net%2FMjAyMDA4MDVfMTA3%2FMDAxNTk2NTY0ODcxNTAy.8cBXx6zUJgwm4FMuSmBC0hjvAt21-wYef3lULbvbM98g.X6XDuJD62LI_0GHIKQLmv7bylEb8bCpAp9cV0Y20YVwg.JPEG.kitty8756%2Foutput_4048395392.jpg&type=a340',\n",
       " 'https://search.pstatic.net/common/?src=http%3A%2F%2Fblogfiles.naver.net%2FMjAyMDExMjhfNjYg%2FMDAxNjA2NTUzNzIyMzcz.djr3X6ICt1LbkbR0E2DWA-VFjR9J7ok7Y1cEHq_Kmogg.2rnZSng72H_XjPt6k3qdccR-rN7mOaTXJlxbrdBOVXkg.JPEG.yoseb0117%2F1606553599450%25A3%25AD1.jpg&type=a340',\n",
       " 'https://search.pstatic.net/common/?src=http%3A%2F%2Fblogfiles.naver.net%2FMjAyMDEyMDJfMTIx%2FMDAxNjA2ODkxMTgzNDM4.z_Kt4GTpndEIvmTFGz3mHqRLwnBc4ghl0QJTTleMZHYg.2oFf4GAz6FAnBQrNE_24QnhKaPBh3xPekdgP0RaepJgg.JPEG.21housingc%2FKakaoTalk_20201127_082727378_01.jpg&type=a340',\n",
       " 'https://search.pstatic.net/common/?src=http%3A%2F%2Fblogfiles.naver.net%2FMjAyMDA5MTRfMjI3%2FMDAxNjAwMDY4MTExNTM1.CVWVUix5CsQ2_lPHO-uuwWboV6nWazVSsnKDUpP5NCEg.Nwl2fiPBYL5raLxW4X_EqihHa5ey35_rneBaN5uZLg0g.JPEG.ghkdwjdvlf3%2F1600068114218.jpg&type=l340_165',\n",
       " 'https://search.pstatic.net/common/?src=http%3A%2F%2Fblogfiles.naver.net%2FMjAyMDExMTJfMTE5%2FMDAxNjA1MTc3MDk4NzM4.oc3vv0n3UrbRD6rIutgJ8bCmmIuMe7pSUfDj8Cto220g.SZf5YRZE4ZknExkiHxLcsMzoUJZvmZGf-dDZiwwYj24g.JPEG.pcmm1%2FResized%25A3%25DF20201112%25A3%25DF184816.jpeg&type=a340',\n",
       " 'https://search.pstatic.net/common/?src=http%3A%2F%2Fblogfiles.naver.net%2FMjAyMDEwMDdfMjcg%2FMDAxNjAyMDQ3NTAwNjg3.iNpSG8H9zuUNKRql7MVTEOPCCVJtLJ6DZhD6vi-n2_cg.xAo0_Pj9B8kcJuA5nJRHwMwbithcDnBxeezrdwqNPCYg.JPEG.fkcm713%2F20200922_155859.jpg&type=a340',\n",
       " 'https://search.pstatic.net/common/?src=http%3A%2F%2Fblogfiles.naver.net%2FMjAyMTAxMDlfMjEx%2FMDAxNjEwMTgwMzEzNDYx.fy_oGk9vEd0MH5Eg0G3ydZKRdrAg0woG-AP8JYulK0wg.5uRClcuDwqWJv42mZY1s98dA2wEIokFjvV6p4P3Vbxcg.JPEG.buckspresso%2Fscaryt.jpg&type=a340',\n",
       " 'https://search.pstatic.net/common/?src=http%3A%2F%2Fblogfiles.naver.net%2FMjAyMDEwMjZfNTQg%2FMDAxNjAzNjkwOTc3NDA0.7Gk3m93hTx5ddiJ_3YZaSJ5fiz2Rui73S3-P2dmbb4Ag.xcsmkAUFJ1j4OdXyPjz_pCYt-PebUuu3ZXxN-OgLTgkg.JPEG.ksh3732%2FIMG_3241.JPG&type=a340',\n",
       " 'https://search.pstatic.net/common/?src=http%3A%2F%2Fblogfiles.naver.net%2FMjAyMDExMTJfODcg%2FMDAxNjA1MTc3MTMwNTA0.HbhdI-ZZ7-Sr-mfHPslzcQosyipO_DxryWaq3sYSUdgg.q28K6FpTpLSfqsoickhAny-Dyr_v3rNy0LvJhRJ8UVsg.JPEG.pcmm1%2FResized%25A3%25DF20201112%25A3%25DF184923.jpeg&type=a340',\n",
       " 'https://search.pstatic.net/common/?src=http%3A%2F%2Fblogfiles.naver.net%2FMjAyMDEwMTFfMjcy%2FMDAxNjAyMzk1MTE1MDA2.hpumkx8TLkRUJug-pwpsZQot5ulxe47Gur3OeKH41tkg.1SIoZGfE8CIDafva7F0vbLUiP1x5N7Xqvufot0xE1iYg.JPEG.rlatjgml0522%2FKakaoTalk_20201011_130551517_13.jpg&type=a340',\n",
       " 'https://search.pstatic.net/common/?src=http%3A%2F%2Fblogfiles.naver.net%2FMjAyMDEwMjhfNTIg%2FMDAxNjAzODY3NzU1MTY5.yKcQf5MKXUABGxr1ycjJHAEXD7HswPrixk2t7EEEGV4g.ZAgTENETa_akCOeLLOSRQc0EduxBT6HwOqws6tOR7PEg.PNG.heyblanche%2F%25C8%25C4%25B8%25A3%25C5%25B8_%25C7%25CF%25B3%25D7%25BD%25BA_%25C0%25A7%25C4%25B5%25B5%25E5_%25B0%25AD%25BE%25C6%25C1%25F6_%25C7%25CF%25B3%25D7%25BD%25BA_%252826%2529.png&type=a340',\n",
       " 'https://search.pstatic.net/common/?src=http%3A%2F%2Fblogfiles.naver.net%2FMjAyMDEyMjVfMzIg%2FMDAxNjA4ODcwOTM1ODAw.6vQBGiokW4tM6aUnBU0GJEgBVs423LfhrkWA6mrZIaEg.L2GUKmsYEVNP5iaoWNR9Bo1gD2HcoPNqUg7k6Q6-LzAg.JPEG.newisher%2Foutput_2294207844.jpg&type=a340',\n",
       " 'https://search.pstatic.net/common/?src=http%3A%2F%2Fblogfiles.naver.net%2FMjAyMDExMzBfNDEg%2FMDAxNjA2NzQ1Njg0NzM2.GKjgDm0TmTQnp0QngrGmH6Ey4nVqhJYfhkYiNTp-uMkg.asm-qnBcoy2j33yZLiS_ExDg3C8fDIj1udnBbRDxcMEg.JPEG.rlatjgml0522%2FKakaoTalk_20201130_222349344_05.jpg&type=a340',\n",
       " 'https://search.pstatic.net/common/?src=http%3A%2F%2Fblogfiles.naver.net%2FMjAyMDA1MjBfMTE1%2FMDAxNTg5OTUwODQ0MTUy.C7jRcvMSlylQqih1ou86LztA_OZ-uivQBDFMBLZ66Rcg.vKuVdrLhmrrUhoz8co-7hBCqYmEarwZdRNABXme9HcQg.JPEG.0186662887%2FKakaoTalk_20200520_140003348.jpg&type=a340',\n",
       " 'https://search.pstatic.net/common/?src=http%3A%2F%2Fblogfiles.naver.net%2FMjAyMDA2MThfMjky%2FMDAxNTkyNDE0OTA5MTE3.aIhh7VU82c270yXB7vFhAWfNTA1AWWEJQ4KBTr3BNm0g.6v5MtMbBeX87dzBx8n05yXKaivufU4ZC3V5pCXouxjAg.JPEG.qkrtjsal351%2FIMG_1680.jpg&type=a340',\n",
       " 'https://search.pstatic.net/common/?src=http%3A%2F%2Fcafefiles.naver.net%2FMjAyMDA0MTZfMjg4%2FMDAxNTg3MDAzMzkzNTA4.2ZnMsBMIxWxfLA7PkeQC_zXTj5gvyCJMxgeywDIEqwUg.1qb6Ij4uZQx1fe8GMQinn_INLxL8wqGpvm6greBq7nkg.JPEG%2FexternalFile.jpg&type=a340',\n",
       " 'https://search.pstatic.net/common/?src=http%3A%2F%2Fblogfiles.naver.net%2FMjAyMTAxMjBfMjAz%2FMDAxNjExMTMyOTA0NTIw.NcilMR1rmu5hylIkeYlhxIvwRERpgBVQGJKjQQkE5wsg.mVwkJyBtQRAeNGgcrhTtEXC6XJ-v6vnAsQw5dP2JFSYg.JPEG.35heaven%2F%25BC%25DB3.jpg&type=a340',\n",
       " 'https://search.pstatic.net/common/?src=http%3A%2F%2Fblogfiles.naver.net%2FMjAyMDExMzBfMjIg%2FMDAxNjA2NzQ1Njg1MDc1.9Kx0y2AzY9JhsgPr1IkUYP48iqVYzgwwtFaXsnT7P-kg._moXCHROtoSYZhP-cYLLm8B9F59l0uzYzJXeqgeKY4kg.JPEG.rlatjgml0522%2FKakaoTalk_20201130_222349344_08.jpg&type=a340',\n",
       " 'https://search.pstatic.net/common/?src=http%3A%2F%2Fimage.nmv.naver.net%2Fcafe_2020_08_05_662%2F00652802-d6b7-11ea-879a-505dac8c3607_01.jpg&type=a340',\n",
       " 'https://search.pstatic.net/common/?src=http%3A%2F%2Fblogfiles.naver.net%2FMjAyMDEwMjZfMTMx%2FMDAxNjAzNzE3NDE1NDg0.Mwn-cq0OTqHK6WnP9ivqwgPubNACtr2vbzKBpLQYw_sg.oYH6XvD-UxXIFpfelK6t9XV5zdChD2-QDwAd98MoNjIg.JPEG.rlatjgml0522%2FKakaoTalk_20201026_220221366.jpg&type=a340',\n",
       " 'https://search.pstatic.net/common/?src=http%3A%2F%2Fblogfiles.naver.net%2FMjAyMDExMjJfMTM5%2FMDAxNjA2MDA4NTg5NTE2.aVaDEUjsQubueFL3sN_VJncr08H4zcpknfYdBUuEm8gg.YksXDu1z37iGxDder3LZNFdPHnLKKVmJLsdhdodL3CEg.PNG.pcmm1%2Fstory%25A3%25DF1605833784498.png&type=a340',\n",
       " 'https://search.pstatic.net/common/?src=http%3A%2F%2Fpost.phinf.naver.net%2FMjAyMDExMjRfMTY4%2FMDAxNjA2MTg0MDM2Njkw.yQSRYk0oebDwsbqyjlLWKis0bkPIAmVZ-9ScceUzUh0g.BvriD35vpKkxeqDaBxOgkZK6Fe_KsIEyUPt4rvFz0dwg.JPEG%2FIlU10K-kMOZ-cUMUTqJpiJF-a8v0.jpg&type=a340',\n",
       " 'https://search.pstatic.net/common/?src=http%3A%2F%2Fblogfiles.naver.net%2FMjAyMDExMTBfMjg1%2FMDAxNjA0OTg0NjQzNDc2.PJ7YYwJmNPws8SvSaplOiO4qSBxFITbQeKNGPpXBP80g.SvcUpVyWd7BPxIaPHPIxyiLgngQGf-gj4IVnv7gQ2QIg.JPEG.pcmm1%2F1604984610294.jpg&type=ofullfill340_600',\n",
       " 'https://search.pstatic.net/common/?src=http%3A%2F%2Fblogfiles.naver.net%2FMjAyMTAxMTZfMjkg%2FMDAxNjEwODAxMTI2NTEx.TeV3we_hHpOlh-4Bt4k4EEEyDVkfwVr_n_sUOnow1q0g.Lbzg3KoJxsByJjZ5rsqDHumVuM6I08um8sWdAZ41UI8g.JPEG.pcmm1%2F1610785375922%25A3%25AD17.jpg&type=a340',\n",
       " 'https://search.pstatic.net/common/?src=http%3A%2F%2Fblogfiles.naver.net%2FMjAyMDExMTBfMTcx%2FMDAxNjA1MDE0MjY5MjUw.BVBsFdUMQmgTPbSiFNrud9WqmbI4PMABn-qFsS-9LLog.ho5-Q1JspPfrORZMRPNRX-UOI0mbBncVmBtleUxI6Zog.JPEG.rlatjgml0522%2FKakaoTalk_20201110_212342787_04.jpg&type=a340',\n",
       " 'https://search.pstatic.net/common/?src=http%3A%2F%2Fblogfiles.naver.net%2FMjAyMDA5MjVfMTc4%2FMDAxNjAxMDE4NTc0ODIw.Dk1XA_xSjfJm6TFY1vWsGIOWaojJi0ZllKJUtS9BBLcg.XKPmxjr8bRxCfZW-XGLoo77Ssb_9PlT6k0x0VfTaBskg.JPEG.bag2001222%2FKakaoTalk_20200925_160400795_07.jpg&type=a340',\n",
       " 'https://search.pstatic.net/common/?src=http%3A%2F%2Fblogfiles.naver.net%2FMjAyMDExMTVfNzkg%2FMDAxNjA1NDE2NTkxNTk3.EOHi19flzKk3imDk58kBg-qkNLN5UF9AnQ2wgQnfldIg.rraEayyDDggVMYa5DoOwzN2GsGYEYl_VYKNqXdFsZjQg.JPEG.pcmm1%2F1605411660769.jpg&type=a340',\n",
       " 'https://search.pstatic.net/common/?src=http%3A%2F%2Fblogfiles.naver.net%2FMjAyMDExMjhfMjUy%2FMDAxNjA2NTUzNzIyOTI3.X6htHSZrxGZns102Ux6pXlliLgk79SwF_vvz7z79V9wg.geu-FYqfgIoX8-OG6kQkKbDWJmnNw9rEHZWGzYG3_94g.JPEG.yoseb0117%2F1606553604262.jpg&type=a340',\n",
       " 'https://search.pstatic.net/common/?src=http%3A%2F%2Fblogfiles.naver.net%2FMjAyMDEyMDVfMTkx%2FMDAxNjA3MTM1MjczNjYw.4m9pEphfwTXAQryDoDczNueSKLqLoSWC0E5jA_mCwAgg.KH7WgkWVdLwXtpYCcqYmMiT0DMokMBAEKj2_XB74U_kg.JPEG.5ucks%2FKakaoTalk_20201205_101449783_08.jpg&type=a340',\n",
       " 'https://search.pstatic.net/common/?src=http%3A%2F%2Fblogfiles.naver.net%2FMjAyMDA4MDRfMjg1%2FMDAxNTk2NTE0NDk2OTQx.3tDp21vJ4GOujjr7oUlsi3Og-IYGmQMa3nnPVeDl4lgg.mhrT6ebkfAmqh1T4xFFrAvsdYs01oRBAzl02LXfnsw0g.JPEG.bellavista11%2FKakaoTalk_20200803_110630784.jpg&type=a340',\n",
       " 'https://search.pstatic.net/common/?src=http%3A%2F%2Fblogfiles.naver.net%2FMjAyMDA4MDRfNDgg%2FMDAxNTk2NTE0NDk1MDU0.5eOe3alS_kJ_RYtMMe3C4hXhAhBSQJUPQeNIBSzY7Ncg.c0AeAJZ8VwNfMmMXOsqikkA5s51bD6UgYZWF32kqg3kg.JPEG.bellavista11%2FKakaoTalk_20200728_082605256.jpg&type=a340',\n",
       " 'https://search.pstatic.net/common/?src=http%3A%2F%2Fblogfiles.naver.net%2FMjAyMDExMTdfMTk1%2FMDAxNjA1NjE3Nzc3NDgz.a69znNEH9A9dSJYu8kgYfddLJdQtsvkSEgytmyNcTGIg.m13fJAABRhOSXYWfboM0PxDMG9YQDe0kwHDpvmZhzvQg.JPEG.rlatjgml0522%2FKakaoTalk_20201117_215503654.jpg&type=a340']"
      ]
     },
     "execution_count": 134,
     "metadata": {},
     "output_type": "execute_result"
    }
   ],
   "source": [
    "img_list"
   ]
  },
  {
   "cell_type": "code",
   "execution_count": 135,
   "metadata": {},
   "outputs": [
    {
     "name": "stdout",
     "output_type": "stream",
     "text": [
      "0번째 이미지가 저장 중입니다.\n",
      "1번째 이미지가 저장 중입니다.\n",
      "2번째 이미지가 저장 중입니다.\n",
      "3번째 이미지가 저장 중입니다.\n",
      "4번째 이미지가 저장 중입니다.\n",
      "5번째 이미지가 저장 중입니다.\n",
      "6번째 이미지가 저장 중입니다.\n",
      "7번째 이미지가 저장 중입니다.\n",
      "8번째 이미지가 저장 중입니다.\n",
      "9번째 이미지가 저장 중입니다.\n",
      "10번째 이미지가 저장 중입니다.\n",
      "11번째 이미지가 저장 중입니다.\n",
      "12번째 이미지가 저장 중입니다.\n",
      "13번째 이미지가 저장 중입니다.\n",
      "14번째 이미지가 저장 중입니다.\n",
      "15번째 이미지가 저장 중입니다.\n",
      "16번째 이미지가 저장 중입니다.\n",
      "17번째 이미지가 저장 중입니다.\n",
      "18번째 이미지가 저장 중입니다.\n",
      "19번째 이미지가 저장 중입니다.\n",
      "20번째 이미지가 저장 중입니다.\n",
      "21번째 이미지가 저장 중입니다.\n",
      "22번째 이미지가 저장 중입니다.\n",
      "23번째 이미지가 저장 중입니다.\n",
      "24번째 이미지가 저장 중입니다.\n",
      "25번째 이미지가 저장 중입니다.\n",
      "26번째 이미지가 저장 중입니다.\n",
      "27번째 이미지가 저장 중입니다.\n",
      "28번째 이미지가 저장 중입니다.\n",
      "29번째 이미지가 저장 중입니다.\n",
      "30번째 이미지가 저장 중입니다.\n",
      "31번째 이미지가 저장 중입니다.\n",
      "32번째 이미지가 저장 중입니다.\n",
      "33번째 이미지가 저장 중입니다.\n",
      "34번째 이미지가 저장 중입니다.\n",
      "35번째 이미지가 저장 중입니다.\n",
      "36번째 이미지가 저장 중입니다.\n",
      "37번째 이미지가 저장 중입니다.\n",
      "38번째 이미지가 저장 중입니다.\n",
      "39번째 이미지가 저장 중입니다.\n",
      "40번째 이미지가 저장 중입니다.\n",
      "41번째 이미지가 저장 중입니다.\n",
      "42번째 이미지가 저장 중입니다.\n",
      "43번째 이미지가 저장 중입니다.\n",
      "44번째 이미지가 저장 중입니다.\n",
      "45번째 이미지가 저장 중입니다.\n",
      "46번째 이미지가 저장 중입니다.\n",
      "47번째 이미지가 저장 중입니다.\n"
     ]
    }
   ],
   "source": [
    "file_n = 0\n",
    "\n",
    "for i in range(len(img_list)):\n",
    "    urlretrieve(img_list[i],'./이미지/'+str(file_n)+'.jpg')\n",
    "    \n",
    "    file_n += 1\n",
    "    time.sleep(2)\n",
    "    \n",
    "    print(str(i) + '번째 이미지가 저장 중입니다.')"
   ]
  },
  {
   "cell_type": "code",
   "execution_count": 130,
   "metadata": {},
   "outputs": [
    {
     "data": {
      "text/plain": [
       "<img alt=\"시고르자브종과 함께하는 마당에서고기파티 :)\" class=\"_image _listImage\" data-org-height=\"454\" data-org-width=\"340\" src=\"https://search.pstatic.net/common/?src=http%3A%2F%2Fblogfiles.naver.net%2FMjAyMDExMDRfMTAg%2FMDAxNjA0NDcyMTI2NTUy.wLuQDOM0RJKzmzDqDbdMohCDKLj9N7yT_AkjlzszYBEg.SeJfqzrtItef8dgVQUg7LQQFaMTQWDO1xrgwArlSm-cg.JPEG.coki7816%2FKakaoTalk_20201104_144509465_13.jpg&amp;type=a340\" style=\"height: 291px; opacity: 1;\"/>"
      ]
     },
     "execution_count": 130,
     "metadata": {},
     "output_type": "execute_result"
    }
   ],
   "source": [
    "img[0]"
   ]
  },
  {
   "cell_type": "code",
   "execution_count": 132,
   "metadata": {},
   "outputs": [
    {
     "data": {
      "text/plain": [
       "<img alt=\"시고르자브종\" class=\"_image _listImage\" data-lazy-src=\"https://search.pstatic.net/common/?src=http%3A%2F%2Fblogfiles.naver.net%2FMjAyMTAxMDRfMjQy%2FMDAxNjA5NzY0MDYwNzQw.ZmuNwJTABlOmifs2NnBH75e9Zf0-mxpUSN4913zVUoog.79SBQGWT8PvV40oyhvkzhSy3glBJgR8tPVV2e8eTVA8g.JPEG.h1004326%2FNaverBlog_20210104_214100_09.jpg&amp;type=a340\" data-org-height=\"453\" data-org-width=\"340\" src=\"data:image/gif;base64,R0lGODlhAQABAIAAAAAAAP///yH5BAEAAAAALAAAAAABAAEAAAIBRAA7\" style=\"height: 290px;\"/>"
      ]
     },
     "execution_count": 132,
     "metadata": {},
     "output_type": "execute_result"
    }
   ],
   "source": [
    "img[4]"
   ]
  },
  {
   "cell_type": "code",
   "execution_count": 133,
   "metadata": {},
   "outputs": [
    {
     "data": {
      "text/plain": [
       "'https://search.pstatic.net/common/?src=http%3A%2F%2Fblogfiles.naver.net%2FMjAyMTAxMDRfMjQy%2FMDAxNjA5NzY0MDYwNzQw.ZmuNwJTABlOmifs2NnBH75e9Zf0-mxpUSN4913zVUoog.79SBQGWT8PvV40oyhvkzhSy3glBJgR8tPVV2e8eTVA8g.JPEG.h1004326%2FNaverBlog_20210104_214100_09.jpg&type=a340'"
      ]
     },
     "execution_count": 133,
     "metadata": {},
     "output_type": "execute_result"
    }
   ],
   "source": [
    "img_list[4]"
   ]
  },
  {
   "cell_type": "code",
   "execution_count": null,
   "metadata": {},
   "outputs": [],
   "source": []
  }
 ],
 "metadata": {
  "kernelspec": {
   "display_name": "Python 3",
   "language": "python",
   "name": "python3"
  },
  "language_info": {
   "codemirror_mode": {
    "name": "ipython",
    "version": 3
   },
   "file_extension": ".py",
   "mimetype": "text/x-python",
   "name": "python",
   "nbconvert_exporter": "python",
   "pygments_lexer": "ipython3",
   "version": "3.8.5"
  }
 },
 "nbformat": 4,
 "nbformat_minor": 4
}
